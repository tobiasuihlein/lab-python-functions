{
 "cells": [
  {
   "cell_type": "markdown",
   "id": "25d7736c-ba17-4aff-b6bb-66eba20fbf4e",
   "metadata": {},
   "source": [
    "# Lab | Functions"
   ]
  },
  {
   "cell_type": "markdown",
   "id": "0c581062-8967-4d93-b06e-62833222f930",
   "metadata": {
    "tags": []
   },
   "source": [
    "## Exercise: Managing Customer Orders with Functions\n",
    "\n",
    "In the previous exercise, you improved the code for managing customer orders by using loops and flow control. Now, let's take it a step further and refactor the code by introducing functions.\n",
    "\n",
    "Follow the steps below to complete the exercise:\n",
    "\n",
    "1. Define a function named `initialize_inventory` that takes `products` as a parameter. Inside the function, implement the code for initializing the inventory dictionary using a loop and user input.\n",
    "\n",
    "2. Define a function named `get_customer_orders` that takes no parameters. Inside the function, implement the code for prompting the user to enter the product names using a loop. The function should return the `customer_orders` set.\n",
    "\n",
    "3. Define a function named `update_inventory` that takes `customer_orders` and `inventory` as parameters. Inside the function, implement the code for updating the inventory dictionary based on the customer orders.\n",
    "\n",
    "4. Define a function named `calculate_order_statistics` that takes `customer_orders` and `products` as parameters. Inside the function, implement the code for calculating the order statistics (total products ordered, and percentage of unique products ordered). The function should return these values.\n",
    "\n",
    "5. Define a function named `print_order_statistics` that takes `order_statistics` as a parameter. Inside the function, implement the code for printing the order statistics.\n",
    "\n",
    "6. Define a function named `print_updated_inventory` that takes `inventory` as a parameter. Inside the function, implement the code for printing the updated inventory.\n",
    "\n",
    "7. Call the functions in the appropriate sequence to execute the program and manage customer orders.\n",
    "\n",
    "Hints for functions:\n",
    "\n",
    "- Consider the input parameters required for each function and their return values.\n",
    "- Utilize function parameters and return values to transfer data between functions.\n",
    "- Test your functions individually to ensure they work correctly.\n",
    "\n",
    "\n"
   ]
  },
  {
   "cell_type": "code",
   "execution_count": 71,
   "id": "ae32e249",
   "metadata": {},
   "outputs": [],
   "source": [
    "def initialize_inventory(products):\n",
    "    \"\"\"Create inventory dictionary for given product list by asking user for input.\"\"\"\n",
    "    inventory = {}\n",
    "    for k in products:\n",
    "        #ask user to enter quantity for each product and store in invetory dictionary\n",
    "        inventory[k] = int(input(\"Enter quantity of \" + k))\n",
    "    return inventory"
   ]
  },
  {
   "cell_type": "code",
   "execution_count": 72,
   "id": "67f4b369",
   "metadata": {},
   "outputs": [],
   "source": [
    "def get_customer_oders():\n",
    "    \"\"\"Get customer orders by asking user for input.\"\"\"\n",
    "\n",
    "    # create set to store customer orders\n",
    "    customer_orders = set()\n",
    "\n",
    "    # ask for user input to order items\n",
    "    continue_order = 'yes'\n",
    "    while continue_order == 'yes':\n",
    "        customer_orders.add(input(\"Enter product name you want to order: \"))\n",
    "        continue_order = input(\"Do you want to add another product? (yes/no)\")\n",
    "    return(customer_orders)"
   ]
  },
  {
   "cell_type": "code",
   "execution_count": 73,
   "id": "474267bf",
   "metadata": {},
   "outputs": [],
   "source": [
    "def update_inventory(customer_orders, products):\n",
    "    \"\"\"Subtract 1 from the quantity of every ordered item in the inventory.\"\"\"\n",
    "    \n",
    "    for k in products:\n",
    "        if k in customer_orders:\n",
    "            inventory[k] = inventory[k] - 1\n",
    "    return inventory"
   ]
  },
  {
   "cell_type": "code",
   "execution_count": 90,
   "id": "5573633e",
   "metadata": {},
   "outputs": [],
   "source": [
    "def calculate_order_statistics(customer_orders, products):\n",
    "    \"\"\"Calculate order statistics for given customer orders and product list.\"\"\"\n",
    "    total_products_ordered = len(customer_orders)\n",
    "    percentage_of_unique_products_ordered = round(total_products_ordered / len(products) * 100)\n",
    "    order_statistics = (total_products_ordered, percentage_of_unique_products_ordered)\n",
    "    return order_statistics"
   ]
  },
  {
   "cell_type": "code",
   "execution_count": 75,
   "id": "3dd77112",
   "metadata": {},
   "outputs": [],
   "source": [
    "def print_order_statistics(order_statistics):\n",
    "    print(\"Order Statistics:\")\n",
    "    print(\"Total Products Ordered: \" + str(order_statistics[0]))\n",
    "    print(\"Percentage of Products Ordered: \" + str(order_statistics[1]) + \"%\")"
   ]
  },
  {
   "cell_type": "code",
   "execution_count": 76,
   "id": "02e48851",
   "metadata": {},
   "outputs": [],
   "source": [
    "def print_updated_inventory(inventory):\n",
    "    print(\"Updated inventory:\")\n",
    "    for key in inventory:\n",
    "        print(key + \": \" + str(inventory[key]))"
   ]
  },
  {
   "cell_type": "code",
   "execution_count": 77,
   "id": "a7e44d8c",
   "metadata": {},
   "outputs": [],
   "source": [
    "# create product list\n",
    "products = [\"t-shirt\", \"mug\", \"hat\", \"book\", \"keychain\"]"
   ]
  },
  {
   "cell_type": "code",
   "execution_count": 78,
   "id": "016ac542",
   "metadata": {},
   "outputs": [],
   "source": [
    "# create inventory for product list\n",
    "inventory = initialize_inventory(products)"
   ]
  },
  {
   "cell_type": "code",
   "execution_count": 79,
   "id": "22dcd38d",
   "metadata": {},
   "outputs": [],
   "source": [
    "# get customer orders\n",
    "customer_orders = get_customer_oders()"
   ]
  },
  {
   "cell_type": "code",
   "execution_count": 80,
   "id": "76edd68c",
   "metadata": {},
   "outputs": [],
   "source": [
    "# update the inventory after customer orders\n",
    "updated_inventory = update_inventory(customer_orders, products)"
   ]
  },
  {
   "cell_type": "code",
   "execution_count": 91,
   "id": "54eb6dda",
   "metadata": {},
   "outputs": [],
   "source": [
    "# calculate order statistics\n",
    "order_statistics = calculate_order_statistics(customer_orders, products)"
   ]
  },
  {
   "cell_type": "code",
   "execution_count": 92,
   "id": "7d135fa5",
   "metadata": {},
   "outputs": [
    {
     "name": "stdout",
     "output_type": "stream",
     "text": [
      "Order Statistics:\n",
      "Total Products Ordered: 2\n",
      "Percentage of Products Ordered: 40%\n"
     ]
    }
   ],
   "source": [
    "# print order statistics\n",
    "print_order_statistics(order_statistics)"
   ]
  },
  {
   "cell_type": "code",
   "execution_count": 83,
   "id": "fe2666cd",
   "metadata": {},
   "outputs": [
    {
     "name": "stdout",
     "output_type": "stream",
     "text": [
      "Updated inventory:\n",
      "t-shirt: 5\n",
      "mug: 3\n",
      "hat: 2\n",
      "book: 2\n",
      "keychain: 1\n"
     ]
    }
   ],
   "source": [
    "# print updated inventory\n",
    "print_updated_inventory(updated_inventory)"
   ]
  },
  {
   "cell_type": "code",
   "execution_count": null,
   "id": "206ae7e6",
   "metadata": {},
   "outputs": [],
   "source": []
  }
 ],
 "metadata": {
  "kernelspec": {
   "display_name": "Python 3 (ipykernel)",
   "language": "python",
   "name": "python3"
  },
  "language_info": {
   "codemirror_mode": {
    "name": "ipython",
    "version": 3
   },
   "file_extension": ".py",
   "mimetype": "text/x-python",
   "name": "python",
   "nbconvert_exporter": "python",
   "pygments_lexer": "ipython3",
   "version": "3.11.7"
  }
 },
 "nbformat": 4,
 "nbformat_minor": 5
}
